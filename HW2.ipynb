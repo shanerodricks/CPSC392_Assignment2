{
  "cells": [
    {
      "cell_type": "markdown",
      "metadata": {
        "id": "HLahLI3uVJoG"
      },
      "source": [
        "# HW2\n",
        "\n",
        "## GENERAL INSTRUCTIONS:\n",
        "\n",
        "- CLEARLY mark where you are answering each question (all questions must be answered in Markdown cells, NOT as comments in code cells)\n",
        "- Show all code necessary for the analysis, but remove superfluous code\n",
        "- Check that your final PDF does not have code/markdown cutoff\n",
        "\n",
        "---\n",
        "\n",
        "Use the [Loan Dataset](https://raw.githubusercontent.com/cmparlettpelleriti/CPSC392ParlettPelleriti/master/Data/HW2.csv) on GitHub to build the classification models described below.\n",
        "\n",
        "## Variable Descriptions:\n",
        "- `age`: age in years of person.\n",
        "- `had_cancer`: 0 if the person has NOT had cancer or has cancer, 1 if they have.\n",
        "- `gender_id`: `Male`, `Female`, `Non-Binary`, or `Survey Choices Do Not Accurately Reflect My Identity`.\n",
        "- `income_in_k`: income in thousands of dollars.\n",
        "- `state`: state person lives in.\n",
        "- `credit_score`: credit score.\n",
        "- `num_credit_sources`: number of sources of credit (includes credit cards, loans, car payments...etc).\n",
        "- `utilization_rate`: the % of a person's total credit they use on average each month. For example if you have 10,000 dollars in available credit, and use 2,000 your utilization rate would be 0.2 (20%).\n",
        "- `gave_loan`: whether or not the person got a loan.\n",
        "\n",
        "## Instructions\n",
        "1. *Build a KNN, Decision Tree, AND Logistic Regression model to predict whether or not someone got a loan using all the other variables.*\n",
        "    - If a variable/predictor has more than 2 categories, use `get_dummies()` to convert them into dummy variables (don't forget to remove the original column when training! see [here](https://github.com/cmparlettpelleriti/CPSC392ParlettPelleriti/blob/master/Extras/get_dummies.ipynb)).\n",
        "    - use the `train_test_split()` to do an 80/20 split (make sure to use the SAME split when training all 3 models, do not re-split your data. We want each model to be trained on the same training set).\n",
        "    - Appropriately z-score your continuous variables only (interval data like age...etc can be counted as continuous)\n",
        "    - For KNN, include only *continuous/interval* columns as predictors. For Decision Tree and Logistic Regression use ALL columns (other than `gave_loan`).\n",
        "    - For KNN, choose K by using `GridSearchCV`.\n",
        "    - For Decision Trees, use `GridSearchCV` to choose max_depth, and make sure to check for overfitting.\n",
        "    - Record the Train/Test accuracies, and print out confusion matrices for both train and test.\n",
        "    \n",
        "    \n",
        "2. *Evaluate Your Models (WRITE YOUR ANSWER IN MARKDOWN CELL)*\n",
        "    - A) Using accuracy AND confusion matrices, **thoroughly discuss which model did best (if you had to pick one), how can you tell?**\n",
        "    - B) **Are there differences in how accurate each of the three models you made in part 1 are for different gender IDs?** (do NOT build a new model for this question. This is simply asking whether any of our models are more accurate when applied to different gender groups, regardless of whether gender was used in the model. If it helps, imagine you're about to deploy this model in the real world, and your boss asks whether the model is biased against/for certain gender groups).\n",
        "    - C) **Are your models better at predicting people who got loans, or didn't get loans? How can you tell? Discuss thoroughly the possible implications of this.**"
      ]
    },
    {
      "cell_type": "markdown",
      "source": [
        "# **1. Build a KNN, Decision Tree, AND Logistic Regression model to predict whether or not someone got a loan using all the other variables.**\n",
        "\n"
      ],
      "metadata": {
        "id": "86G6XOnxVPVQ"
      }
    },
    {
      "cell_type": "code",
      "source": [
        "# import necessary packages\n",
        "import warnings\n",
        "warnings.filterwarnings('ignore')\n",
        "\n",
        "\n",
        "import pandas as pd\n",
        "import numpy as np\n",
        "from plotnine import *\n",
        "\n",
        "from sklearn.linear_model import LinearRegression # Linear Regression Model\n",
        "from sklearn.preprocessing import StandardScaler #Z-score variables\n",
        "from sklearn.metrics import mean_squared_error, mean_absolute_error, r2_score #model evaluation\n",
        "from sklearn.model_selection import train_test_split # simple TT split cv\n",
        "from sklearn.metrics import mean_absolute_error as mae\n",
        "from sklearn.metrics import mean_squared_error, r2_score, accuracy_score\n",
        "from sklearn.linear_model import LogisticRegression # Logisitc Regression Model \n",
        "from sklearn.tree import DecisionTreeClassifier # Decision Tree\n",
        "from sklearn.model_selection import train_test_split\n",
        "from sklearn.model_selection import GridSearchCV\n",
        "import matplotlib.pyplot as plt\n",
        "from sklearn.neighbors import KNeighborsClassifier\n",
        "from sklearn.preprocessing import StandardScaler #Z-score variables\n",
        "from sklearn.model_selection import KFold # k-fold cv\n",
        "from sklearn.model_selection import LeaveOneOut #LOO cv\n",
        "from sklearn.model_selection import cross_val_score # cross validation metrics\n",
        "from sklearn.model_selection import cross_val_predict # cross validation metrics\n",
        "from sklearn.metrics import confusion_matrix\n",
        "from sklearn.metrics import plot_confusion_matrix\n",
        "\n",
        "import time\n",
        "%matplotlib inline"
      ],
      "metadata": {
        "id": "OjQrJTjnmjmY"
      },
      "execution_count": 13,
      "outputs": []
    },
    {
      "cell_type": "code",
      "source": [
        "#creating data frame\n",
        "DF = pd.read_csv(\"https://raw.githubusercontent.com/cmparlettpelleriti/CPSC392ParlettPelleriti/master/Data/HW2.csv\")\n",
        "DF.head()\n",
        "#DF.shape"
      ],
      "metadata": {
        "colab": {
          "base_uri": "https://localhost:8080/",
          "height": 201
        },
        "id": "fRf5iKk_mo8U",
        "outputId": "247e07f9-8f35-4871-c975-1adb16fdd2d4"
      },
      "execution_count": 14,
      "outputs": [
        {
          "output_type": "execute_result",
          "data": {
            "text/plain": [
              "   age  had_cancer gender_id  income_in_k state  credit_score  \\\n",
              "0   39           0    Female           54    TX           448   \n",
              "1   43           0    Female           66    NJ           399   \n",
              "2   42           0      Male           50    NE           509   \n",
              "3   46           0    Female           79    TX           540   \n",
              "4   43           0    Female           49    NV           485   \n",
              "\n",
              "   num_credit_sources  utilization_rate  gave_loan  \n",
              "0                   4              0.32          0  \n",
              "1                   4              0.35          0  \n",
              "2                   8              0.23          0  \n",
              "3                   6              0.15          0  \n",
              "4                  10              0.20          0  "
            ],
            "text/html": [
              "\n",
              "  <div id=\"df-96fddbb0-ca13-45c1-ade9-62a21e98d525\">\n",
              "    <div class=\"colab-df-container\">\n",
              "      <div>\n",
              "<style scoped>\n",
              "    .dataframe tbody tr th:only-of-type {\n",
              "        vertical-align: middle;\n",
              "    }\n",
              "\n",
              "    .dataframe tbody tr th {\n",
              "        vertical-align: top;\n",
              "    }\n",
              "\n",
              "    .dataframe thead th {\n",
              "        text-align: right;\n",
              "    }\n",
              "</style>\n",
              "<table border=\"1\" class=\"dataframe\">\n",
              "  <thead>\n",
              "    <tr style=\"text-align: right;\">\n",
              "      <th></th>\n",
              "      <th>age</th>\n",
              "      <th>had_cancer</th>\n",
              "      <th>gender_id</th>\n",
              "      <th>income_in_k</th>\n",
              "      <th>state</th>\n",
              "      <th>credit_score</th>\n",
              "      <th>num_credit_sources</th>\n",
              "      <th>utilization_rate</th>\n",
              "      <th>gave_loan</th>\n",
              "    </tr>\n",
              "  </thead>\n",
              "  <tbody>\n",
              "    <tr>\n",
              "      <th>0</th>\n",
              "      <td>39</td>\n",
              "      <td>0</td>\n",
              "      <td>Female</td>\n",
              "      <td>54</td>\n",
              "      <td>TX</td>\n",
              "      <td>448</td>\n",
              "      <td>4</td>\n",
              "      <td>0.32</td>\n",
              "      <td>0</td>\n",
              "    </tr>\n",
              "    <tr>\n",
              "      <th>1</th>\n",
              "      <td>43</td>\n",
              "      <td>0</td>\n",
              "      <td>Female</td>\n",
              "      <td>66</td>\n",
              "      <td>NJ</td>\n",
              "      <td>399</td>\n",
              "      <td>4</td>\n",
              "      <td>0.35</td>\n",
              "      <td>0</td>\n",
              "    </tr>\n",
              "    <tr>\n",
              "      <th>2</th>\n",
              "      <td>42</td>\n",
              "      <td>0</td>\n",
              "      <td>Male</td>\n",
              "      <td>50</td>\n",
              "      <td>NE</td>\n",
              "      <td>509</td>\n",
              "      <td>8</td>\n",
              "      <td>0.23</td>\n",
              "      <td>0</td>\n",
              "    </tr>\n",
              "    <tr>\n",
              "      <th>3</th>\n",
              "      <td>46</td>\n",
              "      <td>0</td>\n",
              "      <td>Female</td>\n",
              "      <td>79</td>\n",
              "      <td>TX</td>\n",
              "      <td>540</td>\n",
              "      <td>6</td>\n",
              "      <td>0.15</td>\n",
              "      <td>0</td>\n",
              "    </tr>\n",
              "    <tr>\n",
              "      <th>4</th>\n",
              "      <td>43</td>\n",
              "      <td>0</td>\n",
              "      <td>Female</td>\n",
              "      <td>49</td>\n",
              "      <td>NV</td>\n",
              "      <td>485</td>\n",
              "      <td>10</td>\n",
              "      <td>0.20</td>\n",
              "      <td>0</td>\n",
              "    </tr>\n",
              "  </tbody>\n",
              "</table>\n",
              "</div>\n",
              "      <button class=\"colab-df-convert\" onclick=\"convertToInteractive('df-96fddbb0-ca13-45c1-ade9-62a21e98d525')\"\n",
              "              title=\"Convert this dataframe to an interactive table.\"\n",
              "              style=\"display:none;\">\n",
              "        \n",
              "  <svg xmlns=\"http://www.w3.org/2000/svg\" height=\"24px\"viewBox=\"0 0 24 24\"\n",
              "       width=\"24px\">\n",
              "    <path d=\"M0 0h24v24H0V0z\" fill=\"none\"/>\n",
              "    <path d=\"M18.56 5.44l.94 2.06.94-2.06 2.06-.94-2.06-.94-.94-2.06-.94 2.06-2.06.94zm-11 1L8.5 8.5l.94-2.06 2.06-.94-2.06-.94L8.5 2.5l-.94 2.06-2.06.94zm10 10l.94 2.06.94-2.06 2.06-.94-2.06-.94-.94-2.06-.94 2.06-2.06.94z\"/><path d=\"M17.41 7.96l-1.37-1.37c-.4-.4-.92-.59-1.43-.59-.52 0-1.04.2-1.43.59L10.3 9.45l-7.72 7.72c-.78.78-.78 2.05 0 2.83L4 21.41c.39.39.9.59 1.41.59.51 0 1.02-.2 1.41-.59l7.78-7.78 2.81-2.81c.8-.78.8-2.07 0-2.86zM5.41 20L4 18.59l7.72-7.72 1.47 1.35L5.41 20z\"/>\n",
              "  </svg>\n",
              "      </button>\n",
              "      \n",
              "  <style>\n",
              "    .colab-df-container {\n",
              "      display:flex;\n",
              "      flex-wrap:wrap;\n",
              "      gap: 12px;\n",
              "    }\n",
              "\n",
              "    .colab-df-convert {\n",
              "      background-color: #E8F0FE;\n",
              "      border: none;\n",
              "      border-radius: 50%;\n",
              "      cursor: pointer;\n",
              "      display: none;\n",
              "      fill: #1967D2;\n",
              "      height: 32px;\n",
              "      padding: 0 0 0 0;\n",
              "      width: 32px;\n",
              "    }\n",
              "\n",
              "    .colab-df-convert:hover {\n",
              "      background-color: #E2EBFA;\n",
              "      box-shadow: 0px 1px 2px rgba(60, 64, 67, 0.3), 0px 1px 3px 1px rgba(60, 64, 67, 0.15);\n",
              "      fill: #174EA6;\n",
              "    }\n",
              "\n",
              "    [theme=dark] .colab-df-convert {\n",
              "      background-color: #3B4455;\n",
              "      fill: #D2E3FC;\n",
              "    }\n",
              "\n",
              "    [theme=dark] .colab-df-convert:hover {\n",
              "      background-color: #434B5C;\n",
              "      box-shadow: 0px 1px 3px 1px rgba(0, 0, 0, 0.15);\n",
              "      filter: drop-shadow(0px 1px 2px rgba(0, 0, 0, 0.3));\n",
              "      fill: #FFFFFF;\n",
              "    }\n",
              "  </style>\n",
              "\n",
              "      <script>\n",
              "        const buttonEl =\n",
              "          document.querySelector('#df-96fddbb0-ca13-45c1-ade9-62a21e98d525 button.colab-df-convert');\n",
              "        buttonEl.style.display =\n",
              "          google.colab.kernel.accessAllowed ? 'block' : 'none';\n",
              "\n",
              "        async function convertToInteractive(key) {\n",
              "          const element = document.querySelector('#df-96fddbb0-ca13-45c1-ade9-62a21e98d525');\n",
              "          const dataTable =\n",
              "            await google.colab.kernel.invokeFunction('convertToInteractive',\n",
              "                                                     [key], {});\n",
              "          if (!dataTable) return;\n",
              "\n",
              "          const docLinkHtml = 'Like what you see? Visit the ' +\n",
              "            '<a target=\"_blank\" href=https://colab.research.google.com/notebooks/data_table.ipynb>data table notebook</a>'\n",
              "            + ' to learn more about interactive tables.';\n",
              "          element.innerHTML = '';\n",
              "          dataTable['output_type'] = 'display_data';\n",
              "          await google.colab.output.renderOutput(dataTable, element);\n",
              "          const docLink = document.createElement('div');\n",
              "          docLink.innerHTML = docLinkHtml;\n",
              "          element.appendChild(docLink);\n",
              "        }\n",
              "      </script>\n",
              "    </div>\n",
              "  </div>\n",
              "  "
            ]
          },
          "metadata": {},
          "execution_count": 14
        }
      ]
    },
    {
      "cell_type": "markdown",
      "source": [
        "*a) If a variable/predictor has more than 2 categories, use get_dummies() to convert them into dummy variables (don't forget to remove the original column when training! see here).*"
      ],
      "metadata": {
        "id": "tM3PTFeNVZis"
      }
    },
    {
      "cell_type": "code",
      "source": [
        "#converting all variables with more than 2 categories into dummy variables\n",
        "convertedDF = pd.get_dummies(DF, columns = [\"state\"])\n",
        "convertedDF = pd.get_dummies(convertedDF, columns = [\"gender_id\"])\n",
        "convertedDF"
      ],
      "metadata": {
        "colab": {
          "base_uri": "https://localhost:8080/",
          "height": 542
        },
        "id": "iqVAFQkcoTza",
        "outputId": "91172e52-8a20-4d15-8ce7-7fdc38ac8eb2"
      },
      "execution_count": 15,
      "outputs": [
        {
          "output_type": "execute_result",
          "data": {
            "text/plain": [
              "      age  had_cancer  income_in_k  credit_score  num_credit_sources  \\\n",
              "0      39           0           54           448                   4   \n",
              "1      43           0           66           399                   4   \n",
              "2      42           0           50           509                   8   \n",
              "3      46           0           79           540                   6   \n",
              "4      43           0           49           485                  10   \n",
              "...   ...         ...          ...           ...                 ...   \n",
              "3995   42           0           59           493                   3   \n",
              "3996   44           0           66           659                  11   \n",
              "3997   42           0           71           630                   3   \n",
              "3998   38           0           62           822                   5   \n",
              "3999   40           0           62           732                   4   \n",
              "\n",
              "      utilization_rate  gave_loan  state_AK  state_AL  state_AR  ...  \\\n",
              "0                 0.32          0         0         0         0  ...   \n",
              "1                 0.35          0         0         0         0  ...   \n",
              "2                 0.23          0         0         0         0  ...   \n",
              "3                 0.15          0         0         0         0  ...   \n",
              "4                 0.20          0         0         0         0  ...   \n",
              "...                ...        ...       ...       ...       ...  ...   \n",
              "3995              0.16          0         0         0         0  ...   \n",
              "3996              0.36          1         1         0         0  ...   \n",
              "3997              0.61          1         0         0         0  ...   \n",
              "3998              0.23          1         0         0         0  ...   \n",
              "3999              0.06          0         0         0         0  ...   \n",
              "\n",
              "      state_VA  state_VT  state_WA  state_WI  state_WV  state_WY  \\\n",
              "0            0         0         0         0         0         0   \n",
              "1            0         0         0         0         0         0   \n",
              "2            0         0         0         0         0         0   \n",
              "3            0         0         0         0         0         0   \n",
              "4            0         0         0         0         0         0   \n",
              "...        ...       ...       ...       ...       ...       ...   \n",
              "3995         0         0         0         0         0         0   \n",
              "3996         0         0         0         0         0         0   \n",
              "3997         0         0         0         0         0         0   \n",
              "3998         0         0         0         0         0         0   \n",
              "3999         0         0         0         1         0         0   \n",
              "\n",
              "      gender_id_Female  gender_id_Male  gender_id_Non-Binary  \\\n",
              "0                    1               0                     0   \n",
              "1                    1               0                     0   \n",
              "2                    0               1                     0   \n",
              "3                    1               0                     0   \n",
              "4                    1               0                     0   \n",
              "...                ...             ...                   ...   \n",
              "3995                 1               0                     0   \n",
              "3996                 0               1                     0   \n",
              "3997                 0               1                     0   \n",
              "3998                 1               0                     0   \n",
              "3999                 0               1                     0   \n",
              "\n",
              "      gender_id_Survey Choices Do Not Accurately Reflect My Identity  \n",
              "0                                                     0               \n",
              "1                                                     0               \n",
              "2                                                     0               \n",
              "3                                                     0               \n",
              "4                                                     0               \n",
              "...                                                 ...               \n",
              "3995                                                  0               \n",
              "3996                                                  0               \n",
              "3997                                                  0               \n",
              "3998                                                  0               \n",
              "3999                                                  0               \n",
              "\n",
              "[4000 rows x 61 columns]"
            ],
            "text/html": [
              "\n",
              "  <div id=\"df-2d926ff7-e879-423f-abce-75ebb921237e\">\n",
              "    <div class=\"colab-df-container\">\n",
              "      <div>\n",
              "<style scoped>\n",
              "    .dataframe tbody tr th:only-of-type {\n",
              "        vertical-align: middle;\n",
              "    }\n",
              "\n",
              "    .dataframe tbody tr th {\n",
              "        vertical-align: top;\n",
              "    }\n",
              "\n",
              "    .dataframe thead th {\n",
              "        text-align: right;\n",
              "    }\n",
              "</style>\n",
              "<table border=\"1\" class=\"dataframe\">\n",
              "  <thead>\n",
              "    <tr style=\"text-align: right;\">\n",
              "      <th></th>\n",
              "      <th>age</th>\n",
              "      <th>had_cancer</th>\n",
              "      <th>income_in_k</th>\n",
              "      <th>credit_score</th>\n",
              "      <th>num_credit_sources</th>\n",
              "      <th>utilization_rate</th>\n",
              "      <th>gave_loan</th>\n",
              "      <th>state_AK</th>\n",
              "      <th>state_AL</th>\n",
              "      <th>state_AR</th>\n",
              "      <th>...</th>\n",
              "      <th>state_VA</th>\n",
              "      <th>state_VT</th>\n",
              "      <th>state_WA</th>\n",
              "      <th>state_WI</th>\n",
              "      <th>state_WV</th>\n",
              "      <th>state_WY</th>\n",
              "      <th>gender_id_Female</th>\n",
              "      <th>gender_id_Male</th>\n",
              "      <th>gender_id_Non-Binary</th>\n",
              "      <th>gender_id_Survey Choices Do Not Accurately Reflect My Identity</th>\n",
              "    </tr>\n",
              "  </thead>\n",
              "  <tbody>\n",
              "    <tr>\n",
              "      <th>0</th>\n",
              "      <td>39</td>\n",
              "      <td>0</td>\n",
              "      <td>54</td>\n",
              "      <td>448</td>\n",
              "      <td>4</td>\n",
              "      <td>0.32</td>\n",
              "      <td>0</td>\n",
              "      <td>0</td>\n",
              "      <td>0</td>\n",
              "      <td>0</td>\n",
              "      <td>...</td>\n",
              "      <td>0</td>\n",
              "      <td>0</td>\n",
              "      <td>0</td>\n",
              "      <td>0</td>\n",
              "      <td>0</td>\n",
              "      <td>0</td>\n",
              "      <td>1</td>\n",
              "      <td>0</td>\n",
              "      <td>0</td>\n",
              "      <td>0</td>\n",
              "    </tr>\n",
              "    <tr>\n",
              "      <th>1</th>\n",
              "      <td>43</td>\n",
              "      <td>0</td>\n",
              "      <td>66</td>\n",
              "      <td>399</td>\n",
              "      <td>4</td>\n",
              "      <td>0.35</td>\n",
              "      <td>0</td>\n",
              "      <td>0</td>\n",
              "      <td>0</td>\n",
              "      <td>0</td>\n",
              "      <td>...</td>\n",
              "      <td>0</td>\n",
              "      <td>0</td>\n",
              "      <td>0</td>\n",
              "      <td>0</td>\n",
              "      <td>0</td>\n",
              "      <td>0</td>\n",
              "      <td>1</td>\n",
              "      <td>0</td>\n",
              "      <td>0</td>\n",
              "      <td>0</td>\n",
              "    </tr>\n",
              "    <tr>\n",
              "      <th>2</th>\n",
              "      <td>42</td>\n",
              "      <td>0</td>\n",
              "      <td>50</td>\n",
              "      <td>509</td>\n",
              "      <td>8</td>\n",
              "      <td>0.23</td>\n",
              "      <td>0</td>\n",
              "      <td>0</td>\n",
              "      <td>0</td>\n",
              "      <td>0</td>\n",
              "      <td>...</td>\n",
              "      <td>0</td>\n",
              "      <td>0</td>\n",
              "      <td>0</td>\n",
              "      <td>0</td>\n",
              "      <td>0</td>\n",
              "      <td>0</td>\n",
              "      <td>0</td>\n",
              "      <td>1</td>\n",
              "      <td>0</td>\n",
              "      <td>0</td>\n",
              "    </tr>\n",
              "    <tr>\n",
              "      <th>3</th>\n",
              "      <td>46</td>\n",
              "      <td>0</td>\n",
              "      <td>79</td>\n",
              "      <td>540</td>\n",
              "      <td>6</td>\n",
              "      <td>0.15</td>\n",
              "      <td>0</td>\n",
              "      <td>0</td>\n",
              "      <td>0</td>\n",
              "      <td>0</td>\n",
              "      <td>...</td>\n",
              "      <td>0</td>\n",
              "      <td>0</td>\n",
              "      <td>0</td>\n",
              "      <td>0</td>\n",
              "      <td>0</td>\n",
              "      <td>0</td>\n",
              "      <td>1</td>\n",
              "      <td>0</td>\n",
              "      <td>0</td>\n",
              "      <td>0</td>\n",
              "    </tr>\n",
              "    <tr>\n",
              "      <th>4</th>\n",
              "      <td>43</td>\n",
              "      <td>0</td>\n",
              "      <td>49</td>\n",
              "      <td>485</td>\n",
              "      <td>10</td>\n",
              "      <td>0.20</td>\n",
              "      <td>0</td>\n",
              "      <td>0</td>\n",
              "      <td>0</td>\n",
              "      <td>0</td>\n",
              "      <td>...</td>\n",
              "      <td>0</td>\n",
              "      <td>0</td>\n",
              "      <td>0</td>\n",
              "      <td>0</td>\n",
              "      <td>0</td>\n",
              "      <td>0</td>\n",
              "      <td>1</td>\n",
              "      <td>0</td>\n",
              "      <td>0</td>\n",
              "      <td>0</td>\n",
              "    </tr>\n",
              "    <tr>\n",
              "      <th>...</th>\n",
              "      <td>...</td>\n",
              "      <td>...</td>\n",
              "      <td>...</td>\n",
              "      <td>...</td>\n",
              "      <td>...</td>\n",
              "      <td>...</td>\n",
              "      <td>...</td>\n",
              "      <td>...</td>\n",
              "      <td>...</td>\n",
              "      <td>...</td>\n",
              "      <td>...</td>\n",
              "      <td>...</td>\n",
              "      <td>...</td>\n",
              "      <td>...</td>\n",
              "      <td>...</td>\n",
              "      <td>...</td>\n",
              "      <td>...</td>\n",
              "      <td>...</td>\n",
              "      <td>...</td>\n",
              "      <td>...</td>\n",
              "      <td>...</td>\n",
              "    </tr>\n",
              "    <tr>\n",
              "      <th>3995</th>\n",
              "      <td>42</td>\n",
              "      <td>0</td>\n",
              "      <td>59</td>\n",
              "      <td>493</td>\n",
              "      <td>3</td>\n",
              "      <td>0.16</td>\n",
              "      <td>0</td>\n",
              "      <td>0</td>\n",
              "      <td>0</td>\n",
              "      <td>0</td>\n",
              "      <td>...</td>\n",
              "      <td>0</td>\n",
              "      <td>0</td>\n",
              "      <td>0</td>\n",
              "      <td>0</td>\n",
              "      <td>0</td>\n",
              "      <td>0</td>\n",
              "      <td>1</td>\n",
              "      <td>0</td>\n",
              "      <td>0</td>\n",
              "      <td>0</td>\n",
              "    </tr>\n",
              "    <tr>\n",
              "      <th>3996</th>\n",
              "      <td>44</td>\n",
              "      <td>0</td>\n",
              "      <td>66</td>\n",
              "      <td>659</td>\n",
              "      <td>11</td>\n",
              "      <td>0.36</td>\n",
              "      <td>1</td>\n",
              "      <td>1</td>\n",
              "      <td>0</td>\n",
              "      <td>0</td>\n",
              "      <td>...</td>\n",
              "      <td>0</td>\n",
              "      <td>0</td>\n",
              "      <td>0</td>\n",
              "      <td>0</td>\n",
              "      <td>0</td>\n",
              "      <td>0</td>\n",
              "      <td>0</td>\n",
              "      <td>1</td>\n",
              "      <td>0</td>\n",
              "      <td>0</td>\n",
              "    </tr>\n",
              "    <tr>\n",
              "      <th>3997</th>\n",
              "      <td>42</td>\n",
              "      <td>0</td>\n",
              "      <td>71</td>\n",
              "      <td>630</td>\n",
              "      <td>3</td>\n",
              "      <td>0.61</td>\n",
              "      <td>1</td>\n",
              "      <td>0</td>\n",
              "      <td>0</td>\n",
              "      <td>0</td>\n",
              "      <td>...</td>\n",
              "      <td>0</td>\n",
              "      <td>0</td>\n",
              "      <td>0</td>\n",
              "      <td>0</td>\n",
              "      <td>0</td>\n",
              "      <td>0</td>\n",
              "      <td>0</td>\n",
              "      <td>1</td>\n",
              "      <td>0</td>\n",
              "      <td>0</td>\n",
              "    </tr>\n",
              "    <tr>\n",
              "      <th>3998</th>\n",
              "      <td>38</td>\n",
              "      <td>0</td>\n",
              "      <td>62</td>\n",
              "      <td>822</td>\n",
              "      <td>5</td>\n",
              "      <td>0.23</td>\n",
              "      <td>1</td>\n",
              "      <td>0</td>\n",
              "      <td>0</td>\n",
              "      <td>0</td>\n",
              "      <td>...</td>\n",
              "      <td>0</td>\n",
              "      <td>0</td>\n",
              "      <td>0</td>\n",
              "      <td>0</td>\n",
              "      <td>0</td>\n",
              "      <td>0</td>\n",
              "      <td>1</td>\n",
              "      <td>0</td>\n",
              "      <td>0</td>\n",
              "      <td>0</td>\n",
              "    </tr>\n",
              "    <tr>\n",
              "      <th>3999</th>\n",
              "      <td>40</td>\n",
              "      <td>0</td>\n",
              "      <td>62</td>\n",
              "      <td>732</td>\n",
              "      <td>4</td>\n",
              "      <td>0.06</td>\n",
              "      <td>0</td>\n",
              "      <td>0</td>\n",
              "      <td>0</td>\n",
              "      <td>0</td>\n",
              "      <td>...</td>\n",
              "      <td>0</td>\n",
              "      <td>0</td>\n",
              "      <td>0</td>\n",
              "      <td>1</td>\n",
              "      <td>0</td>\n",
              "      <td>0</td>\n",
              "      <td>0</td>\n",
              "      <td>1</td>\n",
              "      <td>0</td>\n",
              "      <td>0</td>\n",
              "    </tr>\n",
              "  </tbody>\n",
              "</table>\n",
              "<p>4000 rows × 61 columns</p>\n",
              "</div>\n",
              "      <button class=\"colab-df-convert\" onclick=\"convertToInteractive('df-2d926ff7-e879-423f-abce-75ebb921237e')\"\n",
              "              title=\"Convert this dataframe to an interactive table.\"\n",
              "              style=\"display:none;\">\n",
              "        \n",
              "  <svg xmlns=\"http://www.w3.org/2000/svg\" height=\"24px\"viewBox=\"0 0 24 24\"\n",
              "       width=\"24px\">\n",
              "    <path d=\"M0 0h24v24H0V0z\" fill=\"none\"/>\n",
              "    <path d=\"M18.56 5.44l.94 2.06.94-2.06 2.06-.94-2.06-.94-.94-2.06-.94 2.06-2.06.94zm-11 1L8.5 8.5l.94-2.06 2.06-.94-2.06-.94L8.5 2.5l-.94 2.06-2.06.94zm10 10l.94 2.06.94-2.06 2.06-.94-2.06-.94-.94-2.06-.94 2.06-2.06.94z\"/><path d=\"M17.41 7.96l-1.37-1.37c-.4-.4-.92-.59-1.43-.59-.52 0-1.04.2-1.43.59L10.3 9.45l-7.72 7.72c-.78.78-.78 2.05 0 2.83L4 21.41c.39.39.9.59 1.41.59.51 0 1.02-.2 1.41-.59l7.78-7.78 2.81-2.81c.8-.78.8-2.07 0-2.86zM5.41 20L4 18.59l7.72-7.72 1.47 1.35L5.41 20z\"/>\n",
              "  </svg>\n",
              "      </button>\n",
              "      \n",
              "  <style>\n",
              "    .colab-df-container {\n",
              "      display:flex;\n",
              "      flex-wrap:wrap;\n",
              "      gap: 12px;\n",
              "    }\n",
              "\n",
              "    .colab-df-convert {\n",
              "      background-color: #E8F0FE;\n",
              "      border: none;\n",
              "      border-radius: 50%;\n",
              "      cursor: pointer;\n",
              "      display: none;\n",
              "      fill: #1967D2;\n",
              "      height: 32px;\n",
              "      padding: 0 0 0 0;\n",
              "      width: 32px;\n",
              "    }\n",
              "\n",
              "    .colab-df-convert:hover {\n",
              "      background-color: #E2EBFA;\n",
              "      box-shadow: 0px 1px 2px rgba(60, 64, 67, 0.3), 0px 1px 3px 1px rgba(60, 64, 67, 0.15);\n",
              "      fill: #174EA6;\n",
              "    }\n",
              "\n",
              "    [theme=dark] .colab-df-convert {\n",
              "      background-color: #3B4455;\n",
              "      fill: #D2E3FC;\n",
              "    }\n",
              "\n",
              "    [theme=dark] .colab-df-convert:hover {\n",
              "      background-color: #434B5C;\n",
              "      box-shadow: 0px 1px 3px 1px rgba(0, 0, 0, 0.15);\n",
              "      filter: drop-shadow(0px 1px 2px rgba(0, 0, 0, 0.3));\n",
              "      fill: #FFFFFF;\n",
              "    }\n",
              "  </style>\n",
              "\n",
              "      <script>\n",
              "        const buttonEl =\n",
              "          document.querySelector('#df-2d926ff7-e879-423f-abce-75ebb921237e button.colab-df-convert');\n",
              "        buttonEl.style.display =\n",
              "          google.colab.kernel.accessAllowed ? 'block' : 'none';\n",
              "\n",
              "        async function convertToInteractive(key) {\n",
              "          const element = document.querySelector('#df-2d926ff7-e879-423f-abce-75ebb921237e');\n",
              "          const dataTable =\n",
              "            await google.colab.kernel.invokeFunction('convertToInteractive',\n",
              "                                                     [key], {});\n",
              "          if (!dataTable) return;\n",
              "\n",
              "          const docLinkHtml = 'Like what you see? Visit the ' +\n",
              "            '<a target=\"_blank\" href=https://colab.research.google.com/notebooks/data_table.ipynb>data table notebook</a>'\n",
              "            + ' to learn more about interactive tables.';\n",
              "          element.innerHTML = '';\n",
              "          dataTable['output_type'] = 'display_data';\n",
              "          await google.colab.output.renderOutput(dataTable, element);\n",
              "          const docLink = document.createElement('div');\n",
              "          docLink.innerHTML = docLinkHtml;\n",
              "          element.appendChild(docLink);\n",
              "        }\n",
              "      </script>\n",
              "    </div>\n",
              "  </div>\n",
              "  "
            ]
          },
          "metadata": {},
          "execution_count": 15
        }
      ]
    },
    {
      "cell_type": "markdown",
      "source": [
        "*b) use the train_test_split() to do an 80/20 split (make sure to use the SAME split when training all 3 models, do not re-split your data. We want each model to be trained on the same training set).*"
      ],
      "metadata": {
        "id": "HwhFKcQHVll5"
      }
    },
    {
      "cell_type": "markdown",
      "source": [
        "*c) Appropriately z-score your continuous variables only (interval data like age...etc can be counted as continuous)*"
      ],
      "metadata": {
        "id": "8zp6RW0eVtn0"
      }
    },
    {
      "cell_type": "code",
      "source": [
        "#z-score continuous vairables \n",
        "scaler = StandardScaler()\n",
        "scaler.fit(convertedDF[['age', 'income_in_k', 'credit_score', 'utilization_rate']])\n",
        "convertedDF[['age', 'income_in_k', 'credit_score', 'utilization_rate']] = scaler.transform(convertedDF[['age', 'income_in_k', 'credit_score', 'utilization_rate']])\n",
        "convertedDF"
      ],
      "metadata": {
        "colab": {
          "base_uri": "https://localhost:8080/",
          "height": 542
        },
        "id": "E9L2AtMosdQ4",
        "outputId": "5aae0d4e-f710-4ee2-86b4-a95983f0be92"
      },
      "execution_count": 16,
      "outputs": [
        {
          "output_type": "execute_result",
          "data": {
            "text/plain": [
              "           age  had_cancer  income_in_k  credit_score  num_credit_sources  \\\n",
              "0    -0.598138           0    -0.499822     -1.684047                   4   \n",
              "1     0.196796           0     0.239742     -2.138327                   4   \n",
              "2    -0.001938           0    -0.746343     -1.118513                   8   \n",
              "3     0.792996           0     1.040936     -0.831111                   6   \n",
              "4     0.196796           0    -0.807974     -1.341018                  10   \n",
              "...        ...         ...          ...           ...                 ...   \n",
              "3995 -0.001938           0    -0.191670     -1.266850                   3   \n",
              "3996  0.395529           0     0.239742      0.272142                  11   \n",
              "3997 -0.001938           0     0.547894      0.003282                   3   \n",
              "3998 -0.796872           0    -0.006779      1.783321                   5   \n",
              "3999 -0.399405           0    -0.006779      0.948928                   4   \n",
              "\n",
              "      utilization_rate  gave_loan  state_AK  state_AL  state_AR  ...  \\\n",
              "0             0.765180          0         0         0         0  ...   \n",
              "1             0.995442          0         0         0         0  ...   \n",
              "2             0.074394          0         0         0         0  ...   \n",
              "3            -0.539638          0         0         0         0  ...   \n",
              "4            -0.155868          0         0         0         0  ...   \n",
              "...                ...        ...       ...       ...       ...  ...   \n",
              "3995         -0.462884          0         0         0         0  ...   \n",
              "3996          1.072196          1         1         0         0  ...   \n",
              "3997          2.991046          1         0         0         0  ...   \n",
              "3998          0.074394          1         0         0         0  ...   \n",
              "3999         -1.230424          0         0         0         0  ...   \n",
              "\n",
              "      state_VA  state_VT  state_WA  state_WI  state_WV  state_WY  \\\n",
              "0            0         0         0         0         0         0   \n",
              "1            0         0         0         0         0         0   \n",
              "2            0         0         0         0         0         0   \n",
              "3            0         0         0         0         0         0   \n",
              "4            0         0         0         0         0         0   \n",
              "...        ...       ...       ...       ...       ...       ...   \n",
              "3995         0         0         0         0         0         0   \n",
              "3996         0         0         0         0         0         0   \n",
              "3997         0         0         0         0         0         0   \n",
              "3998         0         0         0         0         0         0   \n",
              "3999         0         0         0         1         0         0   \n",
              "\n",
              "      gender_id_Female  gender_id_Male  gender_id_Non-Binary  \\\n",
              "0                    1               0                     0   \n",
              "1                    1               0                     0   \n",
              "2                    0               1                     0   \n",
              "3                    1               0                     0   \n",
              "4                    1               0                     0   \n",
              "...                ...             ...                   ...   \n",
              "3995                 1               0                     0   \n",
              "3996                 0               1                     0   \n",
              "3997                 0               1                     0   \n",
              "3998                 1               0                     0   \n",
              "3999                 0               1                     0   \n",
              "\n",
              "      gender_id_Survey Choices Do Not Accurately Reflect My Identity  \n",
              "0                                                     0               \n",
              "1                                                     0               \n",
              "2                                                     0               \n",
              "3                                                     0               \n",
              "4                                                     0               \n",
              "...                                                 ...               \n",
              "3995                                                  0               \n",
              "3996                                                  0               \n",
              "3997                                                  0               \n",
              "3998                                                  0               \n",
              "3999                                                  0               \n",
              "\n",
              "[4000 rows x 61 columns]"
            ],
            "text/html": [
              "\n",
              "  <div id=\"df-b6040f9d-a754-4ec7-8798-98e88ede1d35\">\n",
              "    <div class=\"colab-df-container\">\n",
              "      <div>\n",
              "<style scoped>\n",
              "    .dataframe tbody tr th:only-of-type {\n",
              "        vertical-align: middle;\n",
              "    }\n",
              "\n",
              "    .dataframe tbody tr th {\n",
              "        vertical-align: top;\n",
              "    }\n",
              "\n",
              "    .dataframe thead th {\n",
              "        text-align: right;\n",
              "    }\n",
              "</style>\n",
              "<table border=\"1\" class=\"dataframe\">\n",
              "  <thead>\n",
              "    <tr style=\"text-align: right;\">\n",
              "      <th></th>\n",
              "      <th>age</th>\n",
              "      <th>had_cancer</th>\n",
              "      <th>income_in_k</th>\n",
              "      <th>credit_score</th>\n",
              "      <th>num_credit_sources</th>\n",
              "      <th>utilization_rate</th>\n",
              "      <th>gave_loan</th>\n",
              "      <th>state_AK</th>\n",
              "      <th>state_AL</th>\n",
              "      <th>state_AR</th>\n",
              "      <th>...</th>\n",
              "      <th>state_VA</th>\n",
              "      <th>state_VT</th>\n",
              "      <th>state_WA</th>\n",
              "      <th>state_WI</th>\n",
              "      <th>state_WV</th>\n",
              "      <th>state_WY</th>\n",
              "      <th>gender_id_Female</th>\n",
              "      <th>gender_id_Male</th>\n",
              "      <th>gender_id_Non-Binary</th>\n",
              "      <th>gender_id_Survey Choices Do Not Accurately Reflect My Identity</th>\n",
              "    </tr>\n",
              "  </thead>\n",
              "  <tbody>\n",
              "    <tr>\n",
              "      <th>0</th>\n",
              "      <td>-0.598138</td>\n",
              "      <td>0</td>\n",
              "      <td>-0.499822</td>\n",
              "      <td>-1.684047</td>\n",
              "      <td>4</td>\n",
              "      <td>0.765180</td>\n",
              "      <td>0</td>\n",
              "      <td>0</td>\n",
              "      <td>0</td>\n",
              "      <td>0</td>\n",
              "      <td>...</td>\n",
              "      <td>0</td>\n",
              "      <td>0</td>\n",
              "      <td>0</td>\n",
              "      <td>0</td>\n",
              "      <td>0</td>\n",
              "      <td>0</td>\n",
              "      <td>1</td>\n",
              "      <td>0</td>\n",
              "      <td>0</td>\n",
              "      <td>0</td>\n",
              "    </tr>\n",
              "    <tr>\n",
              "      <th>1</th>\n",
              "      <td>0.196796</td>\n",
              "      <td>0</td>\n",
              "      <td>0.239742</td>\n",
              "      <td>-2.138327</td>\n",
              "      <td>4</td>\n",
              "      <td>0.995442</td>\n",
              "      <td>0</td>\n",
              "      <td>0</td>\n",
              "      <td>0</td>\n",
              "      <td>0</td>\n",
              "      <td>...</td>\n",
              "      <td>0</td>\n",
              "      <td>0</td>\n",
              "      <td>0</td>\n",
              "      <td>0</td>\n",
              "      <td>0</td>\n",
              "      <td>0</td>\n",
              "      <td>1</td>\n",
              "      <td>0</td>\n",
              "      <td>0</td>\n",
              "      <td>0</td>\n",
              "    </tr>\n",
              "    <tr>\n",
              "      <th>2</th>\n",
              "      <td>-0.001938</td>\n",
              "      <td>0</td>\n",
              "      <td>-0.746343</td>\n",
              "      <td>-1.118513</td>\n",
              "      <td>8</td>\n",
              "      <td>0.074394</td>\n",
              "      <td>0</td>\n",
              "      <td>0</td>\n",
              "      <td>0</td>\n",
              "      <td>0</td>\n",
              "      <td>...</td>\n",
              "      <td>0</td>\n",
              "      <td>0</td>\n",
              "      <td>0</td>\n",
              "      <td>0</td>\n",
              "      <td>0</td>\n",
              "      <td>0</td>\n",
              "      <td>0</td>\n",
              "      <td>1</td>\n",
              "      <td>0</td>\n",
              "      <td>0</td>\n",
              "    </tr>\n",
              "    <tr>\n",
              "      <th>3</th>\n",
              "      <td>0.792996</td>\n",
              "      <td>0</td>\n",
              "      <td>1.040936</td>\n",
              "      <td>-0.831111</td>\n",
              "      <td>6</td>\n",
              "      <td>-0.539638</td>\n",
              "      <td>0</td>\n",
              "      <td>0</td>\n",
              "      <td>0</td>\n",
              "      <td>0</td>\n",
              "      <td>...</td>\n",
              "      <td>0</td>\n",
              "      <td>0</td>\n",
              "      <td>0</td>\n",
              "      <td>0</td>\n",
              "      <td>0</td>\n",
              "      <td>0</td>\n",
              "      <td>1</td>\n",
              "      <td>0</td>\n",
              "      <td>0</td>\n",
              "      <td>0</td>\n",
              "    </tr>\n",
              "    <tr>\n",
              "      <th>4</th>\n",
              "      <td>0.196796</td>\n",
              "      <td>0</td>\n",
              "      <td>-0.807974</td>\n",
              "      <td>-1.341018</td>\n",
              "      <td>10</td>\n",
              "      <td>-0.155868</td>\n",
              "      <td>0</td>\n",
              "      <td>0</td>\n",
              "      <td>0</td>\n",
              "      <td>0</td>\n",
              "      <td>...</td>\n",
              "      <td>0</td>\n",
              "      <td>0</td>\n",
              "      <td>0</td>\n",
              "      <td>0</td>\n",
              "      <td>0</td>\n",
              "      <td>0</td>\n",
              "      <td>1</td>\n",
              "      <td>0</td>\n",
              "      <td>0</td>\n",
              "      <td>0</td>\n",
              "    </tr>\n",
              "    <tr>\n",
              "      <th>...</th>\n",
              "      <td>...</td>\n",
              "      <td>...</td>\n",
              "      <td>...</td>\n",
              "      <td>...</td>\n",
              "      <td>...</td>\n",
              "      <td>...</td>\n",
              "      <td>...</td>\n",
              "      <td>...</td>\n",
              "      <td>...</td>\n",
              "      <td>...</td>\n",
              "      <td>...</td>\n",
              "      <td>...</td>\n",
              "      <td>...</td>\n",
              "      <td>...</td>\n",
              "      <td>...</td>\n",
              "      <td>...</td>\n",
              "      <td>...</td>\n",
              "      <td>...</td>\n",
              "      <td>...</td>\n",
              "      <td>...</td>\n",
              "      <td>...</td>\n",
              "    </tr>\n",
              "    <tr>\n",
              "      <th>3995</th>\n",
              "      <td>-0.001938</td>\n",
              "      <td>0</td>\n",
              "      <td>-0.191670</td>\n",
              "      <td>-1.266850</td>\n",
              "      <td>3</td>\n",
              "      <td>-0.462884</td>\n",
              "      <td>0</td>\n",
              "      <td>0</td>\n",
              "      <td>0</td>\n",
              "      <td>0</td>\n",
              "      <td>...</td>\n",
              "      <td>0</td>\n",
              "      <td>0</td>\n",
              "      <td>0</td>\n",
              "      <td>0</td>\n",
              "      <td>0</td>\n",
              "      <td>0</td>\n",
              "      <td>1</td>\n",
              "      <td>0</td>\n",
              "      <td>0</td>\n",
              "      <td>0</td>\n",
              "    </tr>\n",
              "    <tr>\n",
              "      <th>3996</th>\n",
              "      <td>0.395529</td>\n",
              "      <td>0</td>\n",
              "      <td>0.239742</td>\n",
              "      <td>0.272142</td>\n",
              "      <td>11</td>\n",
              "      <td>1.072196</td>\n",
              "      <td>1</td>\n",
              "      <td>1</td>\n",
              "      <td>0</td>\n",
              "      <td>0</td>\n",
              "      <td>...</td>\n",
              "      <td>0</td>\n",
              "      <td>0</td>\n",
              "      <td>0</td>\n",
              "      <td>0</td>\n",
              "      <td>0</td>\n",
              "      <td>0</td>\n",
              "      <td>0</td>\n",
              "      <td>1</td>\n",
              "      <td>0</td>\n",
              "      <td>0</td>\n",
              "    </tr>\n",
              "    <tr>\n",
              "      <th>3997</th>\n",
              "      <td>-0.001938</td>\n",
              "      <td>0</td>\n",
              "      <td>0.547894</td>\n",
              "      <td>0.003282</td>\n",
              "      <td>3</td>\n",
              "      <td>2.991046</td>\n",
              "      <td>1</td>\n",
              "      <td>0</td>\n",
              "      <td>0</td>\n",
              "      <td>0</td>\n",
              "      <td>...</td>\n",
              "      <td>0</td>\n",
              "      <td>0</td>\n",
              "      <td>0</td>\n",
              "      <td>0</td>\n",
              "      <td>0</td>\n",
              "      <td>0</td>\n",
              "      <td>0</td>\n",
              "      <td>1</td>\n",
              "      <td>0</td>\n",
              "      <td>0</td>\n",
              "    </tr>\n",
              "    <tr>\n",
              "      <th>3998</th>\n",
              "      <td>-0.796872</td>\n",
              "      <td>0</td>\n",
              "      <td>-0.006779</td>\n",
              "      <td>1.783321</td>\n",
              "      <td>5</td>\n",
              "      <td>0.074394</td>\n",
              "      <td>1</td>\n",
              "      <td>0</td>\n",
              "      <td>0</td>\n",
              "      <td>0</td>\n",
              "      <td>...</td>\n",
              "      <td>0</td>\n",
              "      <td>0</td>\n",
              "      <td>0</td>\n",
              "      <td>0</td>\n",
              "      <td>0</td>\n",
              "      <td>0</td>\n",
              "      <td>1</td>\n",
              "      <td>0</td>\n",
              "      <td>0</td>\n",
              "      <td>0</td>\n",
              "    </tr>\n",
              "    <tr>\n",
              "      <th>3999</th>\n",
              "      <td>-0.399405</td>\n",
              "      <td>0</td>\n",
              "      <td>-0.006779</td>\n",
              "      <td>0.948928</td>\n",
              "      <td>4</td>\n",
              "      <td>-1.230424</td>\n",
              "      <td>0</td>\n",
              "      <td>0</td>\n",
              "      <td>0</td>\n",
              "      <td>0</td>\n",
              "      <td>...</td>\n",
              "      <td>0</td>\n",
              "      <td>0</td>\n",
              "      <td>0</td>\n",
              "      <td>1</td>\n",
              "      <td>0</td>\n",
              "      <td>0</td>\n",
              "      <td>0</td>\n",
              "      <td>1</td>\n",
              "      <td>0</td>\n",
              "      <td>0</td>\n",
              "    </tr>\n",
              "  </tbody>\n",
              "</table>\n",
              "<p>4000 rows × 61 columns</p>\n",
              "</div>\n",
              "      <button class=\"colab-df-convert\" onclick=\"convertToInteractive('df-b6040f9d-a754-4ec7-8798-98e88ede1d35')\"\n",
              "              title=\"Convert this dataframe to an interactive table.\"\n",
              "              style=\"display:none;\">\n",
              "        \n",
              "  <svg xmlns=\"http://www.w3.org/2000/svg\" height=\"24px\"viewBox=\"0 0 24 24\"\n",
              "       width=\"24px\">\n",
              "    <path d=\"M0 0h24v24H0V0z\" fill=\"none\"/>\n",
              "    <path d=\"M18.56 5.44l.94 2.06.94-2.06 2.06-.94-2.06-.94-.94-2.06-.94 2.06-2.06.94zm-11 1L8.5 8.5l.94-2.06 2.06-.94-2.06-.94L8.5 2.5l-.94 2.06-2.06.94zm10 10l.94 2.06.94-2.06 2.06-.94-2.06-.94-.94-2.06-.94 2.06-2.06.94z\"/><path d=\"M17.41 7.96l-1.37-1.37c-.4-.4-.92-.59-1.43-.59-.52 0-1.04.2-1.43.59L10.3 9.45l-7.72 7.72c-.78.78-.78 2.05 0 2.83L4 21.41c.39.39.9.59 1.41.59.51 0 1.02-.2 1.41-.59l7.78-7.78 2.81-2.81c.8-.78.8-2.07 0-2.86zM5.41 20L4 18.59l7.72-7.72 1.47 1.35L5.41 20z\"/>\n",
              "  </svg>\n",
              "      </button>\n",
              "      \n",
              "  <style>\n",
              "    .colab-df-container {\n",
              "      display:flex;\n",
              "      flex-wrap:wrap;\n",
              "      gap: 12px;\n",
              "    }\n",
              "\n",
              "    .colab-df-convert {\n",
              "      background-color: #E8F0FE;\n",
              "      border: none;\n",
              "      border-radius: 50%;\n",
              "      cursor: pointer;\n",
              "      display: none;\n",
              "      fill: #1967D2;\n",
              "      height: 32px;\n",
              "      padding: 0 0 0 0;\n",
              "      width: 32px;\n",
              "    }\n",
              "\n",
              "    .colab-df-convert:hover {\n",
              "      background-color: #E2EBFA;\n",
              "      box-shadow: 0px 1px 2px rgba(60, 64, 67, 0.3), 0px 1px 3px 1px rgba(60, 64, 67, 0.15);\n",
              "      fill: #174EA6;\n",
              "    }\n",
              "\n",
              "    [theme=dark] .colab-df-convert {\n",
              "      background-color: #3B4455;\n",
              "      fill: #D2E3FC;\n",
              "    }\n",
              "\n",
              "    [theme=dark] .colab-df-convert:hover {\n",
              "      background-color: #434B5C;\n",
              "      box-shadow: 0px 1px 3px 1px rgba(0, 0, 0, 0.15);\n",
              "      filter: drop-shadow(0px 1px 2px rgba(0, 0, 0, 0.3));\n",
              "      fill: #FFFFFF;\n",
              "    }\n",
              "  </style>\n",
              "\n",
              "      <script>\n",
              "        const buttonEl =\n",
              "          document.querySelector('#df-b6040f9d-a754-4ec7-8798-98e88ede1d35 button.colab-df-convert');\n",
              "        buttonEl.style.display =\n",
              "          google.colab.kernel.accessAllowed ? 'block' : 'none';\n",
              "\n",
              "        async function convertToInteractive(key) {\n",
              "          const element = document.querySelector('#df-b6040f9d-a754-4ec7-8798-98e88ede1d35');\n",
              "          const dataTable =\n",
              "            await google.colab.kernel.invokeFunction('convertToInteractive',\n",
              "                                                     [key], {});\n",
              "          if (!dataTable) return;\n",
              "\n",
              "          const docLinkHtml = 'Like what you see? Visit the ' +\n",
              "            '<a target=\"_blank\" href=https://colab.research.google.com/notebooks/data_table.ipynb>data table notebook</a>'\n",
              "            + ' to learn more about interactive tables.';\n",
              "          element.innerHTML = '';\n",
              "          dataTable['output_type'] = 'display_data';\n",
              "          await google.colab.output.renderOutput(dataTable, element);\n",
              "          const docLink = document.createElement('div');\n",
              "          docLink.innerHTML = docLinkHtml;\n",
              "          element.appendChild(docLink);\n",
              "        }\n",
              "      </script>\n",
              "    </div>\n",
              "  </div>\n",
              "  "
            ]
          },
          "metadata": {},
          "execution_count": 16
        }
      ]
    },
    {
      "cell_type": "code",
      "source": [
        "#train-test split\n",
        "Xtrain, Xtest, ytrain, ytest = train_test_split(convertedDF.loc[:, convertedDF.columns != 'gave_loan'], convertedDF['gave_loan'])"
      ],
      "metadata": {
        "id": "rg5MnPKsqkQf"
      },
      "execution_count": 17,
      "outputs": []
    },
    {
      "cell_type": "code",
      "source": [
        "#Logisitic Regression Model\n",
        "modelLR = LogisticRegression()\n",
        "modelLR.fit(Xtrain, ytrain)\n",
        "modelLR.score(Xtest, ytest)"
      ],
      "metadata": {
        "colab": {
          "base_uri": "https://localhost:8080/"
        },
        "id": "Uac_uSi8rg5j",
        "outputId": "3883e1bb-fbaf-4c1c-ae02-194f42a0d1cd"
      },
      "execution_count": 18,
      "outputs": [
        {
          "output_type": "execute_result",
          "data": {
            "text/plain": [
              "0.711"
            ]
          },
          "metadata": {},
          "execution_count": 18
        }
      ]
    },
    {
      "cell_type": "code",
      "source": [
        "print(modelLR.score(Xtrain, ytrain))"
      ],
      "metadata": {
        "id": "ef0TpqPnhTSp",
        "outputId": "af55863b-8b6a-42bd-fc33-7b6e1c9aa58f",
        "colab": {
          "base_uri": "https://localhost:8080/"
        }
      },
      "execution_count": 38,
      "outputs": [
        {
          "output_type": "stream",
          "name": "stdout",
          "text": [
            "0.7433333333333333\n"
          ]
        }
      ]
    },
    {
      "cell_type": "code",
      "source": [
        "plot_confusion_matrix(modelLR, Xtest, ytest)"
      ],
      "metadata": {
        "colab": {
          "base_uri": "https://localhost:8080/",
          "height": 298
        },
        "id": "NvmGlWe3_zKG",
        "outputId": "d0bdf060-ba31-4e32-a2b6-f8d09d356e2c"
      },
      "execution_count": 19,
      "outputs": [
        {
          "output_type": "execute_result",
          "data": {
            "text/plain": [
              "<sklearn.metrics._plot.confusion_matrix.ConfusionMatrixDisplay at 0x7f4a4c9288d0>"
            ]
          },
          "metadata": {},
          "execution_count": 19
        },
        {
          "output_type": "display_data",
          "data": {
            "text/plain": [
              "<Figure size 432x288 with 2 Axes>"
            ],
            "image/png": "[encoded data removed]"
          },
          "metadata": {
            "needs_background": "light"
          }
        }
      ]
    },
    {
      "cell_type": "code",
      "source": [
        "plot_confusion_matrix(modelLR, Xtrain, ytrain)"
      ],
      "metadata": {
        "id": "uzjrTKK0eVPN",
        "outputId": "5a62d5a2-a7e4-41fd-a57b-2a1ede4bd9dc",
        "colab": {
          "base_uri": "https://localhost:8080/",
          "height": 295
        }
      },
      "execution_count": 20,
      "outputs": [
        {
          "output_type": "execute_result",
          "data": {
            "text/plain": [
              "<sklearn.metrics._plot.confusion_matrix.ConfusionMatrixDisplay at 0x7f4a4c8c9f10>"
            ]
          },
          "metadata": {},
          "execution_count": 20
        },
        {
          "output_type": "display_data",
          "data": {
            "text/plain": [
              "<Figure size 432x288 with 2 Axes>"
            ],
            "image/png": "[encoded data removed]"
          },
          "metadata": {
            "needs_background": "light"
          }
        }
      ]
    },
    {
      "cell_type": "code",
      "source": [
        "y_testpred = modelLR.predict(Xtest)\n",
        "DF.iloc[Xtest.index].assign(y_testpred = y_testpred).groupby('gender_id').apply(lambda x:(x['gave_loan'] == x['y_testpred']).sum()/len(x))"
      ],
      "metadata": {
        "id": "vV0LeF3WnWvc",
        "outputId": "ab2f2e82-93d9-49d6-b658-3da40c3e2147",
        "colab": {
          "base_uri": "https://localhost:8080/"
        }
      },
      "execution_count": 45,
      "outputs": [
        {
          "output_type": "execute_result",
          "data": {
            "text/plain": [
              "gender_id\n",
              "Female                                                  0.732143\n",
              "Male                                                    0.684322\n",
              "Non-Binary                                              0.818182\n",
              "Survey Choices Do Not Accurately Reflect My Identity    0.769231\n",
              "dtype: float64"
            ]
          },
          "metadata": {},
          "execution_count": 45
        }
      ]
    },
    {
      "cell_type": "markdown",
      "source": [
        "*d) For KNN, include only continuous/interval columns as predictors. For Decision Tree and Logistic Regression use ALL columns (other than gave_loan).*"
      ],
      "metadata": {
        "id": "_U9uJBsmVwLG"
      }
    },
    {
      "cell_type": "code",
      "source": [
        "#K-Nearest Neighbors Model\n",
        "modelKNN = KNeighborsClassifier()\n",
        "parameters = {\"n_neighbors\": [2, 3, 4, 5]}\n",
        "modelKNN = GridSearchCV(modelKNN, parameters)\n",
        "modelKNN.fit(Xtrain, ytrain)\n",
        "modelKNN.score(Xtrain, ytrain)\n",
        "modelKNN.score(Xtest, ytest)"
      ],
      "metadata": {
        "colab": {
          "base_uri": "https://localhost:8080/"
        },
        "id": "_HK2xNTLxbrf",
        "outputId": "9c0416aa-8eac-4c17-8b74-3f74ae5d0ed4"
      },
      "execution_count": 11,
      "outputs": [
        {
          "output_type": "execute_result",
          "data": {
            "text/plain": [
              "0.714"
            ]
          },
          "metadata": {},
          "execution_count": 11
        }
      ]
    },
    {
      "cell_type": "code",
      "source": [
        "print(modelKNN.score(Xtrain, ytrain))"
      ],
      "metadata": {
        "id": "y73X5UMNhp26",
        "outputId": "a73667e3-0f43-4e6e-bab9-203f3fe666a8",
        "colab": {
          "base_uri": "https://localhost:8080/"
        }
      },
      "execution_count": 40,
      "outputs": [
        {
          "output_type": "stream",
          "name": "stdout",
          "text": [
            "0.7656666666666667\n"
          ]
        }
      ]
    },
    {
      "cell_type": "code",
      "source": [
        "plot_confusion_matrix(modelKNN, Xtest, ytest)"
      ],
      "metadata": {
        "id": "V7zTNZ2UekfD",
        "outputId": "547b5552-d82c-4814-d56f-fd1ec63f83f7",
        "colab": {
          "base_uri": "https://localhost:8080/",
          "height": 295
        }
      },
      "execution_count": 21,
      "outputs": [
        {
          "output_type": "execute_result",
          "data": {
            "text/plain": [
              "<sklearn.metrics._plot.confusion_matrix.ConfusionMatrixDisplay at 0x7f4a4c7fb190>"
            ]
          },
          "metadata": {},
          "execution_count": 21
        },
        {
          "output_type": "display_data",
          "data": {
            "text/plain": [
              "<Figure size 432x288 with 2 Axes>"
            ],
            "image/png": "[encoded data removed]"
          },
          "metadata": {
            "needs_background": "light"
          }
        }
      ]
    },
    {
      "cell_type": "code",
      "source": [
        "plot_confusion_matrix(modelKNN, Xtrain, ytrain)"
      ],
      "metadata": {
        "id": "iqXe6bTmepQn",
        "outputId": "ba9c3238-b79d-411d-e14d-78c0783e417f",
        "colab": {
          "base_uri": "https://localhost:8080/",
          "height": 295
        }
      },
      "execution_count": 22,
      "outputs": [
        {
          "output_type": "execute_result",
          "data": {
            "text/plain": [
              "<sklearn.metrics._plot.confusion_matrix.ConfusionMatrixDisplay at 0x7f4a4c737490>"
            ]
          },
          "metadata": {},
          "execution_count": 22
        },
        {
          "output_type": "display_data",
          "data": {
            "text/plain": [
              "<Figure size 432x288 with 2 Axes>"
            ],
            "image/png": "[encoded data removed]"
          },
          "metadata": {
            "needs_background": "light"
          }
        }
      ]
    },
    {
      "cell_type": "code",
      "source": [
        "y_testpred = modelKNN.predict(Xtest)\n",
        "DF.iloc[Xtest.index].assign(y_testpred = y_testpred).groupby('gender_id').apply(lambda x:(x['gave_loan'] == x['y_testpred']).sum()/len(x))"
      ],
      "metadata": {
        "id": "qWqoVNytnPyx",
        "outputId": "1e61dacf-f132-4d72-e69d-27a49b138165",
        "colab": {
          "base_uri": "https://localhost:8080/"
        }
      },
      "execution_count": 44,
      "outputs": [
        {
          "output_type": "execute_result",
          "data": {
            "text/plain": [
              "gender_id\n",
              "Female                                                  0.763889\n",
              "Male                                                    0.733051\n",
              "Non-Binary                                              0.818182\n",
              "Survey Choices Do Not Accurately Reflect My Identity    0.615385\n",
              "dtype: float64"
            ]
          },
          "metadata": {},
          "execution_count": 44
        }
      ]
    },
    {
      "cell_type": "markdown",
      "source": [
        "*f) For Decision Trees, use GridSearchCV to choose max_depth, and make sure to check for overfitting.*"
      ],
      "metadata": {
        "id": "cVonR6rhV4Mx"
      }
    },
    {
      "cell_type": "code",
      "source": [
        "#Decision Tree Model\n",
        "modelDT = DecisionTreeClassifier()\n",
        "parameters = {\"max_depth\": [5,8,11,13]}\n",
        "modelDT = GridSearchCV(modelDT, parameters)\n",
        "modelDT.fit(Xtrain, ytrain)\n",
        "trainscore = modelDT.score(Xtrain, ytrain)\n",
        "testscore = modelDT.score(Xtest, ytest)\n",
        "print(trainscore, testscore)"
      ],
      "metadata": {
        "colab": {
          "base_uri": "https://localhost:8080/"
        },
        "id": "s-V0S9Ouubvq",
        "outputId": "56a1dad9-b61d-4ecc-934d-8bdaae46faed"
      },
      "execution_count": 33,
      "outputs": [
        {
          "output_type": "stream",
          "name": "stdout",
          "text": [
            "0.75 0.708\n"
          ]
        }
      ]
    },
    {
      "cell_type": "code",
      "source": [
        "plot_confusion_matrix(modelDT, Xtest, ytest)"
      ],
      "metadata": {
        "id": "8iJ9M2cBevt1",
        "outputId": "25de1291-7e06-4414-e303-08b69997b9e3",
        "colab": {
          "base_uri": "https://localhost:8080/",
          "height": 297
        }
      },
      "execution_count": 35,
      "outputs": [
        {
          "output_type": "execute_result",
          "data": {
            "text/plain": [
              "<sklearn.metrics._plot.confusion_matrix.ConfusionMatrixDisplay at 0x7f4a4a476a10>"
            ]
          },
          "metadata": {},
          "execution_count": 35
        },
        {
          "output_type": "display_data",
          "data": {
            "text/plain": [
              "<Figure size 432x288 with 2 Axes>"
            ],
            "image/png": "[encoded data removed]"
          },
          "metadata": {
            "needs_background": "light"
          }
        }
      ]
    },
    {
      "cell_type": "code",
      "source": [
        "plot_confusion_matrix(modelDT, Xtrain, ytrain)"
      ],
      "metadata": {
        "id": "2x1lfkgTeywq",
        "outputId": "c7e1a472-b6f1-46ad-984b-e5376e360376",
        "colab": {
          "base_uri": "https://localhost:8080/",
          "height": 295
        }
      },
      "execution_count": 36,
      "outputs": [
        {
          "output_type": "execute_result",
          "data": {
            "text/plain": [
              "<sklearn.metrics._plot.confusion_matrix.ConfusionMatrixDisplay at 0x7f4a4a3a3910>"
            ]
          },
          "metadata": {},
          "execution_count": 36
        },
        {
          "output_type": "display_data",
          "data": {
            "text/plain": [
              "<Figure size 432x288 with 2 Axes>"
            ],
            "image/png": "[encoded data removed]"
          },
          "metadata": {
            "needs_background": "light"
          }
        }
      ]
    },
    {
      "cell_type": "markdown",
      "source": [
        "2b)"
      ],
      "metadata": {
        "id": "5kKMKYFuV8gc"
      }
    },
    {
      "cell_type": "code",
      "source": [
        "y_testpred = modelDT.predict(Xtest)\n",
        "DF.iloc[Xtest.index].assign(y_testpred = y_testpred).groupby('gender_id').apply(lambda x:(x['gave_loan'] == x['y_testpred']).sum()/len(x))"
      ],
      "metadata": {
        "id": "j5vUkwY3lBfh",
        "outputId": "7d9ab1ee-2d1e-4b65-cba3-e86b61c5ad62",
        "colab": {
          "base_uri": "https://localhost:8080/"
        }
      },
      "execution_count": 43,
      "outputs": [
        {
          "output_type": "execute_result",
          "data": {
            "text/plain": [
              "gender_id\n",
              "Female                                                  0.734127\n",
              "Male                                                    0.675847\n",
              "Non-Binary                                              0.818182\n",
              "Survey Choices Do Not Accurately Reflect My Identity    0.769231\n",
              "dtype: float64"
            ]
          },
          "metadata": {},
          "execution_count": 43
        }
      ]
    },
    {
      "cell_type": "markdown",
      "source": [
        "# **2. Evaluate Your Models (WRITE YOUR ANSWER IN MARKDOWN CELL)**"
      ],
      "metadata": {
        "id": "1spf9DyvWFdP"
      }
    },
    {
      "cell_type": "markdown",
      "source": [
        "*A) Using accuracy AND confusion matrices, thoroughly discuss which model did best (if you had to pick one), how can you tell?*"
      ],
      "metadata": {
        "id": "8L5ceLuSWPG8"
      }
    },
    {
      "cell_type": "markdown",
      "source": [
        "Using the accuracy and confusion matricies, the KNN model performed the best. The KNN Model provided the best accuracy scores for both training and testing data (.766, .714). For the Decision Tree Model, it has the worst accuracy score for testing data, but a better score for training data, indicating overfitting. When looking at the confusion matric for the Decision Tree, it produced a lot of False Negatives (288), and very rarely produced False Positives (4), meaning that the model is biased to guessing 0 (not recieve a loan). When looking at the KNN model confusion matrix, the ratio of True Positive to False Positive and ratio of True Negative and False Negative is much closer than the other models, indicating it is the best model as it does not assume everything is 0."
      ],
      "metadata": {
        "id": "_1oRt0y7Wr4y"
      }
    },
    {
      "cell_type": "markdown",
      "source": [
        "*B) Are there differences in how accurate each of the three models you made in part 1 are for different gender IDs? (do NOT build a new model for this question. This is simply asking whether any of our models are more accurate when applied to different gender groups, regardless of whether gender was used in the model. If it helps, imagine you're about to deploy this model in the real world, and your boss asks whether the model is biased against/for certain gender groups).*"
      ],
      "metadata": {
        "id": "qApBi9vwWWMd"
      }
    },
    {
      "cell_type": "markdown",
      "source": [
        "Yes there are differences in how accurate each of the 3 models are for different gender IDs. For the logistic regression and Decision Tree model, it produced a higher accuracy score for females. The KNN model produiced a fairly similar score for both males and females. Non-binary was consitently the highest gender accuracy score for each model.  "
      ],
      "metadata": {
        "id": "nej8UTzyngrN"
      }
    },
    {
      "cell_type": "markdown",
      "source": [
        "*C) Are your models better at predicting people who got loans, or didn't get loans? How can you tell? Discuss thoroughly the possible implications of this.*"
      ],
      "metadata": {
        "id": "lfmYv3WSWcQW"
      }
    },
    {
      "cell_type": "markdown",
      "source": [
        "When looking at the confusion matrix for the Decision Tree, it is better at predicting for people who did not get loans, which is indicative by the large amount of false negatives, meaning it overestimated those that did not get loans. Out of the 290 people that did get loans, the model only correctly predicted 2 of them. Additionally, out of the 710 people who did not get loans, it correctly predicted that 4 of them got loans. When looking at the confusion matrix for KNN, it is also better at predicting those who did not get loans. Out of the 290 that did not get loans, it correctly predicted 66, which is better than the Decision Tree model, but still biased. The confusion matrix for the Logisitic Regression model says the same thing, but provides less accuracy than the KNN model (6 out of 290). The implications of this means that since there is more data for people who did not get loans, the models will all be more biased towards those who did not get them (overestimating that number). ASome real world applications would be that if people should get a loan, but the model says they shouldn't, that could really hurt them financially, and ultimately affect the banks credability. If it is not giving loans to people that should be getting them, no one will keep going to that bank."
      ],
      "metadata": {
        "id": "ydLMpFbnopOc"
      }
    }
  ],
  "metadata": {
    "hide_input": false,
    "kernelspec": {
      "display_name": "Python 3",
      "language": "python",
      "name": "python3"
    },
    "language_info": {
      "codemirror_mode": {
        "name": "ipython",
        "version": 3
      },
      "file_extension": ".py",
      "mimetype": "text/x-python",
      "name": "python",
      "nbconvert_exporter": "python",
      "pygments_lexer": "ipython3",
      "version": "3.8.1"
    },
    "toc": {
      "base_numbering": 1,
      "nav_menu": {},
      "number_sections": true,
      "sideBar": true,
      "skip_h1_title": false,
      "title_cell": "Table of Contents",
      "title_sidebar": "Contents",
      "toc_cell": false,
      "toc_position": {},
      "toc_section_display": true,
      "toc_window_display": false
    },
    "colab": {
      "name": "HW2_SP22.ipynb",
      "provenance": []
    }
  },
  "nbformat": 4,
  "nbformat_minor": 0
}